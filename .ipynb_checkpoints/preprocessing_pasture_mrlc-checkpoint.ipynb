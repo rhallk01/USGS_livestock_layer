{
 "cells": [
  {
   "cell_type": "code",
   "execution_count": 22,
   "id": "0afff20c-942f-445e-9f51-efdda530472b",
   "metadata": {
    "scrolled": true
   },
   "outputs": [
    {
     "name": "stdout",
     "output_type": "stream",
     "text": [
      "Finished: mrlc_pasture_2000_1km.tif\n"
     ]
    }
   ],
   "source": [
    "import numpy as np\n",
    "import rasterio\n",
    "from rasterio.warp import reproject, Resampling\n",
    "\n",
    "# path to original file, template, and output folder\n",
    "src_path      = \"Annual_NLCD_LndCov_2000_CU_C1V1.tif\"\n",
    "template_path = \"USA_1km_raster.tif\"\n",
    "dst_path      = \"mrlc_pasture_2000_1km.tif\"\n",
    "\n",
    "# open template to get target grid\n",
    "with rasterio.open(template_path) as tmpl:\n",
    "    dst_height, dst_width = tmpl.height, tmpl.width\n",
    "    dst_transform = tmpl.transform\n",
    "    dst_crs = tmpl.crs\n",
    "    dst_meta = tmpl.meta.copy()\n",
    "    dst_meta.update(dtype=\"uint8\", count=1)\n",
    "\n",
    "# set up destination array\n",
    "dst_data = np.zeros((dst_height, dst_width), dtype=np.uint8)\n",
    "\n",
    "# open original file and reproject\n",
    "with rasterio.open(src_path) as src:\n",
    "\n",
    "    # reproject NLCD to 1 km using mode resampling\n",
    "    # check if class==81\n",
    "    tmp_1km = np.zeros((dst_height, dst_width), dtype=np.uint8)\n",
    "\n",
    "    reproject(\n",
    "        source=rasterio.band(src, 1),\n",
    "        destination=tmp_1km,\n",
    "        src_transform=src.transform,\n",
    "        src_crs=src.crs,\n",
    "        dst_transform=dst_transform,\n",
    "        dst_crs=dst_crs,\n",
    "        resampling=Resampling.mode\n",
    "    )\n",
    "\n",
    "    # convert to binary mask: 1 = pasture/hay (class 81), 0 = else\n",
    "    dst_data = np.where(tmp_1km == 81, 1, 0).astype(np.uint8)\n",
    "\n",
    "# write the 1 km pasture mask\n",
    "with rasterio.open(dst_path, \"w\", **dst_meta) as dst:\n",
    "    dst.write(dst_data, 1)\n",
    "\n",
    "print(\"Finished:\", dst_path)\n"
   ]
  }
 ],
 "metadata": {
  "kernelspec": {
   "display_name": "Python 3 (ipykernel)",
   "language": "python",
   "name": "python3"
  },
  "language_info": {
   "codemirror_mode": {
    "name": "ipython",
    "version": 3
   },
   "file_extension": ".py",
   "mimetype": "text/x-python",
   "name": "python",
   "nbconvert_exporter": "python",
   "pygments_lexer": "ipython3",
   "version": "3.13.7"
  }
 },
 "nbformat": 4,
 "nbformat_minor": 5
}
